{
 "cells": [
  {
   "cell_type": "markdown",
   "metadata": {
    "application/vnd.databricks.v1+cell": {
     "cellMetadata": {
      "byteLimit": 2048000,
      "rowLimit": 10000
     },
     "inputWidgets": {},
     "nuid": "10c382fb-d72e-42cc-82a3-76b7f79b0e9c",
     "showTitle": false,
     "tableResultSettingsMap": {},
     "title": ""
    }
   },
   "source": [
    "# Objetivo\n",
    "\n",
    "A partir dos dados apresentados o objetivo deste notebook é apresentar o passo a passo da limpeza e manipulação dos dados. \n",
    "Para realizar a limpeza dos dados e ter maior compreensão destes análises pontuais foram realizadas.\n",
    "\n",
    "# Datasets\n",
    "\n",
    "**offers.jsons** - Dataset contém os IDs das ofertas e metadados de cada uma delas:\n",
    "\n",
    "*  ```id``` [string]: ID da oferta\n",
    "\n",
    "* ```offertype``` [string]: Tipo da oferta, i.e., BOGO, discount, informational\n",
    "\n",
    "* ```minvalue``` [int]: Valor mínimo que precisa ser gasto para que a oferta seja ativada\n",
    "\n",
    "* ```discountvalue``` [int]: Valor do desconto a ser aplicado, caso a oferta seja ativada\n",
    "\n",
    "* ```duration``` [int]: Tempo durante o qual a oferta está disponível para o cliente agir, i.e., prazo para que o cliente utilize a oferta recebida\n",
    "\n",
    "\n",
    "**customers.jsons** - Dataset contém informações sobre aproximadamente 17k clientes:\n",
    "\n",
    "* ```id``` [string]: ID do cliente\n",
    "\n",
    "* ```age``` [int]: Idade do cliente no momento da criação da conta\n",
    "\n",
    "* ```registered_on``` [string]: Data em que o cliente criou a conta\n",
    "\n",
    "* ```gender``` [string]: gênero do cliente (algumas entradas podem conter '0' para outras opções além de M ou F)\n",
    "\n",
    "* ```credit_card_limit``` [float]: Limite do cartão de crédito do cliente registrado no momento da criação da conta.\n",
    "\n",
    "**transactions.jsons** - Dataset contém informações sobre aproximadamente 300k eventos:\n",
    "\n",
    "* ```account_id``` [string]: ID do cliente\n",
    "\n",
    "* ```event``` [string]: Descrição do evento (transação, oferta recebida, oferta visualizada, oferta concluída)\n",
    "\n",
    "* ```time_since_test_start``` [int]: Tempo passado desde o começo do teste, em dias. Os dados começam em t=0\n",
    "\n",
    "* ```value ``` [json]: Pode registrar o offer_id de oferta, o desconto concedido (reward) ou o valor da transação, dependendo do tipo de evento\n",
    "    * ```offer id``` [string]\n",
    "    * ```offer_id``` [string]\n",
    "    * ```amount``` [float]\n",
    "    * ```reward``` [float]\n",
    "\n",
    "**Importante:** Os descontos de uma oferta (key reward do campo value) são concedidos quando uma transação é realizada após a visualização de uma oferta. Nesse caso, o reward recebido será automaticamente aplicado à próxima transação. Logo, o valor da transação seguinte ao recebimento do desconto de uma oferta é o valor com o desconto já aplicado."
   ]
  },
  {
   "cell_type": "markdown",
   "metadata": {
    "application/vnd.databricks.v1+cell": {
     "cellMetadata": {
      "byteLimit": 2048000,
      "rowLimit": 10000
     },
     "inputWidgets": {},
     "nuid": "53a4c099-7539-46dc-ad36-116f947b29b8",
     "showTitle": false,
     "tableResultSettingsMap": {},
     "title": ""
    }
   },
   "source": [
    "# Modelagem do dataset de transação\n",
    "\n",
    "Dado o comentário:\n",
    "\n",
    "*Os descontos de uma oferta (key reward do campo value) são concedidos quando uma transação é realizada após a visualização de uma oferta. Nesse caso, o reward recebido será automaticamente aplicado à próxima transação. Logo, o valor da transação seguinte ao recebimento do desconto de uma oferta é o valor com o desconto já aplicado.*\n",
    "\n",
    "Podemos inferir que a ordem ideal que os eventos podem acontecer é: \n",
    "\n",
    "```offer_received``` >> ```offer_viewed``` >> ```transaction``` >> ```offer_completed```\n",
    "\n",
    "Partindo dessa ordem ideal, tem-se as seguintes informações: \n",
    "\n",
    "- ```offer_received```: O cliente recebe a oferta, mas nsse ponto não há desconto aplicado. O ```reward``` ainda não foi conquistado, apenas a oferta foi disponibilizada ao cliente.\n",
    "\n",
    "- ```offer_viewed```: Quando o cliente visualiza a oferta, cria-se a condição para que ele possa ganhar o ```reward```. Entretanto, após a visualização, o desconto ainda não está aplicado a nenhuma transação.\n",
    "\n",
    "- ```transaction``` (após a oferta ter sido vista): Quando o cliente realiza uma transação depois de ter visto a oferta, esse ato faz com que o ```reward``` seja efetivamente “ganho”. Neste momento, a oferta é considerada pronta para ser concluída, mas o desconto ainda não é aplicado nesta transação atual. O ato de comprar após visualizar a oferta é o passo necessário para que o sistema marque essa oferta como utilizável.\n",
    "\n",
    "- ```offer_completed```: Com a realização da transação subsequente à visualização, a oferta é finalizada, o ```reward``` é concedido ao cliente. Significa que, agora, o sistema disponibiliza o desconto para ser utilizado."
   ]
  },
  {
   "cell_type": "code",
   "execution_count": 0,
   "metadata": {
    "application/vnd.databricks.v1+cell": {
     "cellMetadata": {
      "byteLimit": 2048000,
      "rowLimit": 10000
     },
     "inputWidgets": {},
     "nuid": "71f19c04-6b0e-47a9-bb0f-22e5d6cf1e3e",
     "showTitle": false,
     "tableResultSettingsMap": {},
     "title": ""
    }
   },
   "outputs": [],
   "source": [
    "from datetime import datetime\n",
    "\n",
    "import matplotlib.pyplot as plt\n",
    "import numpy as np\n",
    "import pyspark.pandas as ps\n",
    "import seaborn as sns\n",
    "from pyspark.pandas.config import set_option\n",
    "from pyspark.sql import SparkSession, Window\n",
    "from pyspark.sql import functions as F\n",
    "from pyspark.sql import DataFrame\n",
    "from pyspark.sql.functions import col, when, lit, isnull, explode, struct\n",
    "\n",
    "# Enable operations on different frames\n",
    "set_option(\"compute.ops_on_diff_frames\", True)"
   ]
  },
  {
   "cell_type": "markdown",
   "metadata": {
    "application/vnd.databricks.v1+cell": {
     "cellMetadata": {
      "byteLimit": 2048000,
      "rowLimit": 10000
     },
     "inputWidgets": {},
     "nuid": "9f57a838-4299-4cb9-9614-fd484cad2807",
     "showTitle": false,
     "tableResultSettingsMap": {},
     "title": ""
    }
   },
   "source": [
    "# 0 | Helper functions"
   ]
  },
  {
   "cell_type": "code",
   "execution_count": 0,
   "metadata": {
    "application/vnd.databricks.v1+cell": {
     "cellMetadata": {
      "byteLimit": 2048000,
      "rowLimit": 10000
     },
     "inputWidgets": {},
     "nuid": "a18750da-389c-4f00-af35-f47cf445dcf1",
     "showTitle": false,
     "tableResultSettingsMap": {},
     "title": ""
    }
   },
   "outputs": [],
   "source": [
    "def check_offer_ids(df: DataFrame) -> DataFrame:\n",
    "    \"\"\"\n",
    "    Adds a new column 'offer_flag' to the DataFrame to check the condition between 'offer id' and 'offer_id'.\n",
    "    The function is using pyspark dataframe sintax\n",
    "\n",
    "    Args:\n",
    "        df (DataFrame): PySpark DataFrame with columns 'offer id' and 'offer_id'.\n",
    "\n",
    "    Returns:\n",
    "        DataFrame: DataFrame with a new column 'offer_flag'.\n",
    "    \"\"\"\n",
    "    # Create the logic for the 'offer_flag' column using when/otherwise\n",
    "    df = df.withColumn(\n",
    "        \"offer_flag\",\n",
    "        when(\n",
    "            isnull(col(\"offer_id_1\")) & isnull(col(\"offer_id_2\")), lit(\"flag_both_null\")\n",
    "        )\n",
    "        .when(\n",
    "            ~isnull(col(\"offer_id_1\")) & ~isnull(col(\"offer_id_2\")),\n",
    "            when(\n",
    "                col(\"offer_id_1\") == col(\"offer_id_2\"), lit(\"flag_both_not_null\")\n",
    "            ).otherwise(lit(\"flag_different\")),\n",
    "        )\n",
    "        .when(~isnull(col(\"offer_id_1\")), lit(\"flag_id_1_not_null\"))\n",
    "        .otherwise(lit(\"flag_id_2_not_null\")),\n",
    "    )\n",
    "\n",
    "    return df"
   ]
  },
  {
   "cell_type": "code",
   "execution_count": 0,
   "metadata": {
    "application/vnd.databricks.v1+cell": {
     "cellMetadata": {
      "byteLimit": 2048000,
      "rowLimit": 10000
     },
     "inputWidgets": {},
     "nuid": "9b72863d-a950-4cf4-83ee-98231b57c628",
     "showTitle": false,
     "tableResultSettingsMap": {},
     "title": ""
    }
   },
   "outputs": [],
   "source": [
    "def associate_transactions_to_offers(\n",
    "    transactions: ps.DataFrame, offers_duration: ps.DataFrame\n",
    ") -> ps.DataFrame:\n",
    "    \"\"\"Associates transactions with offers based on customer activity and offer durations.\n",
    "\n",
    "    This function merges transaction data with offer duration information, sorts the data,\n",
    "    and associates transactions occurring within the influence window of each offer received.\n",
    "    It processes each customer individually, ensuring proper mapping of transactions to \n",
    "    offers based on the time constraints of the offers.\n",
    "\n",
    "    Args:\n",
    "        transactions (ps.DataFrame): A PySpark pandas DataFrame containing transaction data \n",
    "            with columns:\n",
    "            - \"customer_id\": The unique identifier for each customer.\n",
    "            - \"offer_id\": The identifier for the offer, which may initially be null.\n",
    "            - \"event\": The type of event (e.g., \"offer received\", \"transaction\").\n",
    "            - \"time_since_test_start\": The timestamp of the event relative to the test start.\n",
    "        \n",
    "        offers_duration (ps.DataFrame): A PySpark pandas DataFrame containing offer duration data \n",
    "            with columns:\n",
    "            - \"offer_id\": The identifier for the offer.\n",
    "            - \"duration\": The duration of the offer's influence window.\n",
    "\n",
    "    Returns:\n",
    "        ps.DataFrame: A PySpark pandas DataFrame with the same structure as `transactions` but with \n",
    "        updated \"offer_id\" values for transactions that occurred within the influence window of \n",
    "        an offer.\n",
    "\n",
    "    Steps:\n",
    "        1. Merge `transactions` with `offers_duration` to include offer durations.\n",
    "        2. Sort the merged DataFrame by \"customer_id\", \"offer_id\", and \"time_since_test_start\".\n",
    "        3. Process each customer group:\n",
    "           - Identify offers received and their influence windows.\n",
    "           - Update \"offer_id\" for transactions falling within the influence window of each offer.\n",
    "        4. Return the updated DataFrame with associated transactions.\n",
    "    \"\"\"\n",
    "    \n",
    "    # Step 1: Merge transactions with offers_duration\n",
    "    transactions = transactions.merge(offers_duration, on=\"offer_id\", how=\"left\")\n",
    "    \n",
    "    # Step 2: Sort transactions\n",
    "    transactions = transactions.sort_values(\n",
    "        by=[\"customer_id\", \"offer_id\", \"time_since_test_start\"]\n",
    "    )\n",
    "\n",
    "    # Step 3: Define a function to process each customer group\n",
    "    def process_customer(customer_df):\n",
    "        customer_df = customer_df.copy()\n",
    "        received_offers = customer_df[customer_df[\"event\"] == \"offer received\"]\n",
    "\n",
    "        for _, offer in received_offers.iterrows():\n",
    "            offer_id = offer[\"offer_id\"]\n",
    "            start_time = offer[\"time_since_test_start\"]\n",
    "            duration = offer[\"duration\"]\n",
    "            end_time = start_time + duration\n",
    "\n",
    "            # Associate transactions within the influence window\n",
    "            transactions_idx = customer_df[\n",
    "                (customer_df[\"event\"] == \"transaction\")\n",
    "                & (customer_df[\"time_since_test_start\"] >= start_time)\n",
    "                & (customer_df[\"time_since_test_start\"] <= end_time)\n",
    "                & (customer_df[\"offer_id\"].isna())\n",
    "            ].index\n",
    "\n",
    "            customer_df.loc[transactions_idx, \"offer_id\"] = offer_id\n",
    "\n",
    "        return customer_df\n",
    "\n",
    "    # Step 4: Apply the function to each group of customers\n",
    "    transactions = (\n",
    "        transactions.groupby(\"customer_id\")\n",
    "        .apply(process_customer)\n",
    "        .reset_index(drop=True)\n",
    "    )\n",
    "\n",
    "    return transactions"
   ]
  },
  {
   "cell_type": "code",
   "execution_count": 0,
   "metadata": {
    "application/vnd.databricks.v1+cell": {
     "cellMetadata": {
      "byteLimit": 2048000,
      "rowLimit": 10000
     },
     "inputWidgets": {},
     "nuid": "b852973c-2629-4546-9914-4887507dd999",
     "showTitle": false,
     "tableResultSettingsMap": {},
     "title": ""
    }
   },
   "outputs": [],
   "source": [
    "def calculate_time(transactions: ps.DataFrame) -> ps.DataFrame:\n",
    "    \"\"\"\n",
    "    Calculate the time to view and complete an offer using PySpark pandas.\n",
    "\n",
    "    Args:\n",
    "        transactions (ps.DataFrame): Transaction data with columns:\n",
    "            - customer_id: Identifier for the customer.\n",
    "            - offer_id: Identifier for the offer.\n",
    "            - event: Type of event (e.g., \"offer received\", \"offer viewed\", \"offer completed\").\n",
    "            - time_since_test_start: Time relative to the test start.\n",
    "\n",
    "    Returns:\n",
    "        ps.DataFrame: Processed data with calculated `time_to_view` and `time_to_complete`.\n",
    "    \"\"\"\n",
    "    # Sort transactions by customer_id, offer_id, and time_since_test_start\n",
    "    transactions = transactions.sort_values(\n",
    "        by=[\"customer_id\", \"offer_id\", \"time_since_test_start\"]\n",
    "    )\n",
    "\n",
    "    # Filter rows for \"offer received\"\n",
    "    received_offers = transactions[transactions[\"event\"] == \"offer received\"]\n",
    "\n",
    "    # Define a function to calculate time_to_view and time_to_complete\n",
    "    def calculate_times(row, transactions):\n",
    "        offer_id = row[\"offer_id\"]\n",
    "        customer_id = row[\"customer_id\"]\n",
    "        start_time = row[\"time_since_test_start\"]\n",
    "\n",
    "        # Filter related events for the customer and after offer start time\n",
    "        related_events = transactions[\n",
    "            (transactions[\"customer_id\"] == customer_id) &\n",
    "            (transactions[\"time_since_test_start\"] >= start_time)\n",
    "        ]\n",
    "\n",
    "        # Time to view\n",
    "        viewed_event = related_events[\n",
    "            (related_events[\"event\"] == \"offer viewed\") &\n",
    "            (related_events[\"offer_id\"] == offer_id)\n",
    "        ]\n",
    "        if not viewed_event.empty:\n",
    "            time_to_view = viewed_event.iloc[0][\"time_since_test_start\"] - start_time\n",
    "\n",
    "            # Time to complete\n",
    "            completed_event = related_events[\n",
    "                (related_events[\"event\"] == \"offer completed\") &\n",
    "                (related_events[\"offer_id\"] == offer_id)\n",
    "            ]\n",
    "            if not completed_event.empty:\n",
    "                time_to_complete = (\n",
    "                    completed_event.iloc[0][\"time_since_test_start\"]\n",
    "                    - viewed_event.iloc[0][\"time_since_test_start\"]\n",
    "                )\n",
    "                # Ensure no negative time_to_complete\n",
    "                if time_to_complete >= 0:\n",
    "                    return time_to_view, time_to_complete\n",
    "            return time_to_view, None\n",
    "\n",
    "        # If no \"offer viewed\" event, set both times to None\n",
    "        return None, None\n",
    "\n",
    "    # Apply the function to calculate times for each received offer\n",
    "    received_offers[[\"time_to_view\", \"time_to_complete\"]] = received_offers.apply(\n",
    "        lambda row: calculate_times(row, transactions),\n",
    "        axis=1,\n",
    "        result_type=\"expand\"\n",
    "    )\n",
    "\n",
    "    # Return only the relevant columns\n",
    "    return received_offers[[\"customer_id\", \"offer_id\", \"time_to_view\", \"time_to_complete\"]]"
   ]
  },
  {
   "cell_type": "markdown",
   "metadata": {
    "application/vnd.databricks.v1+cell": {
     "cellMetadata": {
      "byteLimit": 2048000,
      "rowLimit": 10000
     },
     "inputWidgets": {},
     "nuid": "6056079c-0404-4862-9118-2694c416e304",
     "showTitle": false,
     "tableResultSettingsMap": {},
     "title": ""
    }
   },
   "source": [
    "# 1 | Dataset offers"
   ]
  },
  {
   "cell_type": "code",
   "execution_count": 0,
   "metadata": {
    "application/vnd.databricks.v1+cell": {
     "cellMetadata": {
      "byteLimit": 2048000,
      "rowLimit": 10000
     },
     "inputWidgets": {},
     "nuid": "fc60a130-fce4-4071-82c4-5928902406eb",
     "showTitle": false,
     "tableResultSettingsMap": {},
     "title": ""
    }
   },
   "outputs": [],
   "source": [
    "file_location_offers = \"/FileStore/tables/offers.json\"\n",
    "\n",
    "offers_raw = (\n",
    "    spark.read.format(\"json\")\n",
    "    .option(\"inferSchema\", \"false\")\n",
    "    .option(\"header\", \"false\")\n",
    "    .option(\"sep\", \",\")\n",
    "    .load(file_location_offers)\n",
    ")\n",
    "\n",
    "display(offers_raw)"
   ]
  },
  {
   "cell_type": "code",
   "execution_count": 0,
   "metadata": {
    "application/vnd.databricks.v1+cell": {
     "cellMetadata": {
      "byteLimit": 2048000,
      "rowLimit": 10000
     },
     "inputWidgets": {},
     "nuid": "ad65c06d-3edb-43fb-932a-be2ef93d87a2",
     "showTitle": false,
     "tableResultSettingsMap": {},
     "title": ""
    }
   },
   "outputs": [],
   "source": [
    "# Get the dtypes of the DataFrame\n",
    "dtypes = offers_raw.dtypes"
   ]
  },
  {
   "cell_type": "code",
   "execution_count": 0,
   "metadata": {
    "application/vnd.databricks.v1+cell": {
     "cellMetadata": {
      "byteLimit": 2048000,
      "rowLimit": 10000
     },
     "inputWidgets": {},
     "nuid": "1c136db5-da31-407e-ba8f-8b31b603d344",
     "showTitle": false,
     "tableResultSettingsMap": {},
     "title": ""
    }
   },
   "outputs": [],
   "source": [
    "# Get the shape of the DataFrame (number of rows and columns)\n",
    "num_rows = offers_raw.count()\n",
    "num_cols = len(offers_raw.columns)\n",
    "print(\"DataFrame shape:\", (num_rows, num_cols))"
   ]
  },
  {
   "cell_type": "code",
   "execution_count": 0,
   "metadata": {
    "application/vnd.databricks.v1+cell": {
     "cellMetadata": {
      "byteLimit": 2048000,
      "rowLimit": 10000
     },
     "inputWidgets": {},
     "nuid": "ffff7e74-ff26-4fda-8e8e-f8f23d7c5210",
     "showTitle": false,
     "tableResultSettingsMap": {},
     "title": ""
    }
   },
   "outputs": [],
   "source": [
    "# To make easy the quick exploration of the data, the pyspark.DataFrame will be converted into pypark.pandas\n",
    "offers_raw_df = offers_raw.toPandas()"
   ]
  },
  {
   "cell_type": "code",
   "execution_count": 0,
   "metadata": {
    "application/vnd.databricks.v1+cell": {
     "cellMetadata": {
      "byteLimit": 2048000,
      "rowLimit": 10000
     },
     "inputWidgets": {},
     "nuid": "ce0110a1-4ba5-4a57-8940-1aada44d9a10",
     "showTitle": false,
     "tableResultSettingsMap": {},
     "title": ""
    }
   },
   "outputs": [],
   "source": [
    "# Quick stats\n",
    "offers_raw_df.describe().round(4)"
   ]
  },
  {
   "cell_type": "code",
   "execution_count": 0,
   "metadata": {
    "application/vnd.databricks.v1+cell": {
     "cellMetadata": {
      "byteLimit": 2048000,
      "rowLimit": 10000
     },
     "inputWidgets": {},
     "nuid": "1ab46f87-7409-41b0-aeeb-76170be24d53",
     "showTitle": false,
     "tableResultSettingsMap": {},
     "title": ""
    }
   },
   "outputs": [],
   "source": [
    "# Get unique channels\n",
    "all_channels = offers_raw_df[\"channels\"].explode().to_list()\n",
    "unique_channels = set(all_channels)\n",
    "\n",
    "print(f\"Channels: {unique_channels}\")"
   ]
  },
  {
   "cell_type": "markdown",
   "metadata": {
    "application/vnd.databricks.v1+cell": {
     "cellMetadata": {
      "byteLimit": 2048000,
      "rowLimit": 10000
     },
     "inputWidgets": {},
     "nuid": "778be3d4-3125-4acb-8d35-9e9a8d4ab5c9",
     "showTitle": false,
     "tableResultSettingsMap": {},
     "title": ""
    }
   },
   "source": [
    "**Observações:**\n",
    "\n",
    "- Dados não precisam de limpeza, visto que não há missings, outliers, etc\n",
    "\n",
    "- ```channels```: Lista de strings, que conté os canais: 'web', 'social', 'mobile', 'email'\n",
    "\n",
    "A partir da análise serão criadas variáveis dummies para ```channels``` e ```offer_type```"
   ]
  },
  {
   "cell_type": "code",
   "execution_count": 0,
   "metadata": {
    "application/vnd.databricks.v1+cell": {
     "cellMetadata": {
      "byteLimit": 2048000,
      "rowLimit": 10000
     },
     "inputWidgets": {},
     "nuid": "05c2d2e3-3016-41fd-88c3-cda07c6c9839",
     "showTitle": false,
     "tableResultSettingsMap": {},
     "title": ""
    }
   },
   "outputs": [],
   "source": [
    "# Rename the column\n",
    "offers_aux_df = ps.DataFrame(offers_raw_df.rename(columns={\"id\": \"offer_id\"}))"
   ]
  },
  {
   "cell_type": "code",
   "execution_count": 0,
   "metadata": {
    "application/vnd.databricks.v1+cell": {
     "cellMetadata": {
      "byteLimit": 2048000,
      "rowLimit": 10000
     },
     "inputWidgets": {},
     "nuid": "477ecedb-b8de-46bd-83d9-0f7a73a0f6b8",
     "showTitle": false,
     "tableResultSettingsMap": {},
     "title": ""
    }
   },
   "outputs": [],
   "source": [
    "# Get dummies for offer type column\n",
    "offer_type_dummies = ps.get_dummies(offers_aux_df[\"offer_type\"])\n",
    "offer_type_dummies"
   ]
  },
  {
   "cell_type": "code",
   "execution_count": 0,
   "metadata": {
    "application/vnd.databricks.v1+cell": {
     "cellMetadata": {
      "byteLimit": 2048000,
      "rowLimit": 10000
     },
     "inputWidgets": {},
     "nuid": "557a3c9d-ab82-49c4-847b-c24b179d54dd",
     "showTitle": false,
     "tableResultSettingsMap": {},
     "title": ""
    }
   },
   "outputs": [],
   "source": [
    "# Transform channels in dummies columns\n",
    "for channel in unique_channels:\n",
    "    offers_aux_df[channel] = offers_aux_df[\"channels\"].apply(\n",
    "        lambda x: 1 if channel in x else 0\n",
    "    )"
   ]
  },
  {
   "cell_type": "code",
   "execution_count": 0,
   "metadata": {
    "application/vnd.databricks.v1+cell": {
     "cellMetadata": {
      "byteLimit": 2048000,
      "rowLimit": 10000
     },
     "inputWidgets": {},
     "nuid": "89b2d94c-59fa-41e0-b051-8d418473f277",
     "showTitle": false,
     "tableResultSettingsMap": {},
     "title": ""
    }
   },
   "outputs": [],
   "source": [
    "# Concat the channels dummies with the offers\n",
    "offers_psdf = ps.concat(\n",
    "    [offers_aux_df.drop(columns=\"channels\"), offer_type_dummies], axis=1\n",
    ")\n",
    "offers_psdf.head()"
   ]
  },
  {
   "cell_type": "code",
   "execution_count": 0,
   "metadata": {
    "application/vnd.databricks.v1+cell": {
     "cellMetadata": {
      "byteLimit": 2048000,
      "rowLimit": 10000
     },
     "inputWidgets": {},
     "nuid": "42f9bc53-8c5f-47b0-afeb-d632eb0d2ff5",
     "showTitle": false,
     "tableResultSettingsMap": {},
     "title": ""
    }
   },
   "outputs": [],
   "source": [
    "# Transform pyspark.pandas dataframe to pyspark.dataframe to download the data\n",
    "offers_pyspark_df = offers_aux_df.to_spark()\n",
    "display(offers_pyspark_df)"
   ]
  },
  {
   "cell_type": "markdown",
   "metadata": {
    "application/vnd.databricks.v1+cell": {
     "cellMetadata": {
      "byteLimit": 2048000,
      "rowLimit": 10000
     },
     "inputWidgets": {},
     "nuid": "220e2832-79fd-43f7-852a-e76fb0939760",
     "showTitle": false,
     "tableResultSettingsMap": {},
     "title": ""
    }
   },
   "source": [
    "# 2 | Dataset customers"
   ]
  },
  {
   "cell_type": "code",
   "execution_count": 0,
   "metadata": {
    "application/vnd.databricks.v1+cell": {
     "cellMetadata": {
      "byteLimit": 2048000,
      "rowLimit": 10000
     },
     "inputWidgets": {},
     "nuid": "fe62043c-06df-4c71-8870-d1667587097a",
     "showTitle": false,
     "tableResultSettingsMap": {},
     "title": ""
    }
   },
   "outputs": [],
   "source": [
    "file_location_customers = \"/FileStore/tables/profile.json\"\n",
    "\n",
    "customers_raw = (\n",
    "    spark.read.format(\"json\")\n",
    "    .option(\"inferSchema\", \"false\")\n",
    "    .option(\"header\", \"false\")\n",
    "    .option(\"sep\", \",\")\n",
    "    .load(file_location_customers)\n",
    ")\n",
    "\n",
    "display(customers_raw)"
   ]
  },
  {
   "cell_type": "code",
   "execution_count": 0,
   "metadata": {
    "application/vnd.databricks.v1+cell": {
     "cellMetadata": {
      "byteLimit": 2048000,
      "rowLimit": 10000
     },
     "inputWidgets": {},
     "nuid": "ab1eb412-6e09-4102-bdbb-474e68afd145",
     "showTitle": false,
     "tableResultSettingsMap": {},
     "title": ""
    }
   },
   "outputs": [],
   "source": [
    "# Get the dtypes of the dataframe\n",
    "dtypes = customers_raw.dtypes\n",
    "print(dtypes)"
   ]
  },
  {
   "cell_type": "code",
   "execution_count": 0,
   "metadata": {
    "application/vnd.databricks.v1+cell": {
     "cellMetadata": {
      "byteLimit": 2048000,
      "rowLimit": 10000
     },
     "inputWidgets": {},
     "nuid": "9321f1de-3bc8-4e7b-8dd5-a0014a8a2039",
     "showTitle": false,
     "tableResultSettingsMap": {},
     "title": ""
    }
   },
   "outputs": [],
   "source": [
    "# Get the shape of the DataFrame (number of rows and columns)\n",
    "num_rows = customers_raw.count()\n",
    "num_cols = len(customers_raw.columns)\n",
    "print(\"DataFrame shape:\", (num_rows, num_cols))"
   ]
  },
  {
   "cell_type": "code",
   "execution_count": 0,
   "metadata": {
    "application/vnd.databricks.v1+cell": {
     "cellMetadata": {
      "byteLimit": 2048000,
      "rowLimit": 10000
     },
     "inputWidgets": {},
     "nuid": "7f4b3c34-3040-4d9c-84fd-a89869922a25",
     "showTitle": false,
     "tableResultSettingsMap": {},
     "title": ""
    }
   },
   "outputs": [],
   "source": [
    "# To make easy the quick exploration of the data, the pyspark.DataFrame will be converted into pypark.pandas\n",
    "customers_raw_df = customers_raw.toPandas()"
   ]
  },
  {
   "cell_type": "code",
   "execution_count": 0,
   "metadata": {
    "application/vnd.databricks.v1+cell": {
     "cellMetadata": {
      "byteLimit": 2048000,
      "rowLimit": 10000
     },
     "inputWidgets": {},
     "nuid": "f0a04d69-95ac-409a-9c6a-ba1793e50e6c",
     "showTitle": false,
     "tableResultSettingsMap": {},
     "title": ""
    }
   },
   "outputs": [],
   "source": [
    "duplicated_ids = customers_raw_df.duplicated(subset=[\"id\"]).sum()\n",
    "print(f\"Número de IDs duplicados: {duplicated_ids}\")"
   ]
  },
  {
   "cell_type": "code",
   "execution_count": 0,
   "metadata": {
    "application/vnd.databricks.v1+cell": {
     "cellMetadata": {
      "byteLimit": 2048000,
      "rowLimit": 10000
     },
     "inputWidgets": {},
     "nuid": "50343077-b85f-4b1b-8618-412c6d8de75a",
     "showTitle": false,
     "tableResultSettingsMap": {},
     "title": ""
    }
   },
   "outputs": [],
   "source": [
    "# Quick stats\n",
    "customers_raw_df.describe().round(4)"
   ]
  },
  {
   "cell_type": "code",
   "execution_count": 0,
   "metadata": {
    "application/vnd.databricks.v1+cell": {
     "cellMetadata": {
      "byteLimit": 2048000,
      "rowLimit": 10000
     },
     "inputWidgets": {},
     "nuid": "6eb9d2d1-37b3-4994-bc6b-f015720afc03",
     "showTitle": false,
     "tableResultSettingsMap": {},
     "title": ""
    }
   },
   "outputs": [],
   "source": [
    "# Quick stats removing age = 118\n",
    "customers_raw_df[customers_raw_df[\"age\"] != 118].describe().round(4)"
   ]
  },
  {
   "cell_type": "markdown",
   "metadata": {
    "application/vnd.databricks.v1+cell": {
     "cellMetadata": {
      "byteLimit": 2048000,
      "rowLimit": 10000
     },
     "inputWidgets": {},
     "nuid": "82933157-b0b0-4d9b-b8ef-cf6223732a96",
     "showTitle": false,
     "tableResultSettingsMap": {},
     "title": ""
    }
   },
   "source": [
    "Removendo a idade igual a 118 anos, observa-se que a média e a mediana das variáveis ```age``` e ```credit_card_limit``` são próximas, o que indica que a distribuição dos dados é simétrica.\n",
    "\n",
    "- ```age```: média = 54.39 e mediana = 55\n",
    "\n",
    "- ```credit_card_limit```: média = 65405 e mediana = 64000"
   ]
  },
  {
   "cell_type": "code",
   "execution_count": 0,
   "metadata": {
    "application/vnd.databricks.v1+cell": {
     "cellMetadata": {
      "byteLimit": 2048000,
      "rowLimit": 10000
     },
     "inputWidgets": {},
     "nuid": "891dd557-2043-4f87-b285-72f826fcf20a",
     "showTitle": false,
     "tableResultSettingsMap": {},
     "title": ""
    }
   },
   "outputs": [],
   "source": [
    "# Get the percentage of missings\n",
    "missing_percent = customers_raw_df.isna().mean() * 100\n",
    "missing_percent = missing_percent.round(4)\n",
    "print(missing_percent)"
   ]
  },
  {
   "cell_type": "code",
   "execution_count": 0,
   "metadata": {
    "application/vnd.databricks.v1+cell": {
     "cellMetadata": {
      "byteLimit": 2048000,
      "rowLimit": 10000
     },
     "inputWidgets": {},
     "nuid": "a9e710f3-7c96-45e5-b86c-73345ee917ec",
     "showTitle": false,
     "tableResultSettingsMap": {},
     "title": ""
    }
   },
   "outputs": [],
   "source": [
    "# Get the percentage of clients with age equals to 118\n",
    "age_118_percent = (\n",
    "    customers_raw_df[customers_raw_df[\"age\"] == 118][\"age\"].count()\n",
    "    / len(customers_raw_df)\n",
    "    * 100\n",
    ")\n",
    "age_118_percent = round(age_118_percent, 4)\n",
    "print(f\"Percentual de registros com idade igual a 118: {age_118_percent}%\")"
   ]
  },
  {
   "cell_type": "markdown",
   "metadata": {
    "application/vnd.databricks.v1+cell": {
     "cellMetadata": {
      "byteLimit": 2048000,
      "rowLimit": 10000
     },
     "inputWidgets": {},
     "nuid": "dcd1136a-17db-4753-811b-e2adec216026",
     "showTitle": false,
     "tableResultSettingsMap": {},
     "title": ""
    }
   },
   "source": [
    "O que se observa é que filtrando ```age = 118``` e checando o percentual de missings na base, o percentual de missings se mantém. \n",
    "\n",
    "O que leva a hipótese de que os clientes com idade igual 118 tem os campos ```gender``` e ```credit_card_limit``` faltantes (únicos campos com missings na base)"
   ]
  },
  {
   "cell_type": "code",
   "execution_count": 0,
   "metadata": {
    "application/vnd.databricks.v1+cell": {
     "cellMetadata": {
      "byteLimit": 2048000,
      "rowLimit": 10000
     },
     "inputWidgets": {},
     "nuid": "5ea5bb92-5345-4fd6-893d-94b39bd228fc",
     "showTitle": false,
     "tableResultSettingsMap": {},
     "title": ""
    }
   },
   "outputs": [],
   "source": [
    "# Customers with age equals to 118 and missings values\n",
    "customers_noinfo_df = customers_raw_df[\n",
    "    (customers_raw_df[\"age\"] == 118)\n",
    "    & (customers_raw_df[\"gender\"].isna())\n",
    "    & (customers_raw_df[\"credit_card_limit\"].isna())\n",
    "]\n",
    "\n",
    "customers_noinfo_df.info()"
   ]
  },
  {
   "cell_type": "code",
   "execution_count": 0,
   "metadata": {
    "application/vnd.databricks.v1+cell": {
     "cellMetadata": {
      "byteLimit": 2048000,
      "rowLimit": 10000
     },
     "inputWidgets": {},
     "nuid": "3db9f7c8-8df5-4044-93e3-4894470620cc",
     "showTitle": false,
     "tableResultSettingsMap": {},
     "title": ""
    }
   },
   "outputs": [],
   "source": [
    "# Customers with age equals to 118 and without missing values in gender and credit_card_limit\n",
    "customers_age_not_118_df = customers_raw_df[\n",
    "    (customers_raw_df[\"age\"] != 118)\n",
    "    & (customers_raw_df[\"gender\"].notna())\n",
    "    & (customers_raw_df[\"credit_card_limit\"].notna())\n",
    "]\n",
    "customers_age_not_118_df.info()"
   ]
  },
  {
   "cell_type": "code",
   "execution_count": 0,
   "metadata": {
    "application/vnd.databricks.v1+cell": {
     "cellMetadata": {
      "byteLimit": 2048000,
      "rowLimit": 10000
     },
     "inputWidgets": {},
     "nuid": "da992755-6264-4216-bd28-0cd7d539301f",
     "showTitle": false,
     "tableResultSettingsMap": {},
     "title": ""
    }
   },
   "outputs": [],
   "source": [
    "# Percentage of clients per gender, withou NA data\n",
    "customers_raw_df[(customers_raw_df[\"age\"] != 118)][\"gender\"].value_counts(\n",
    "    normalize=True\n",
    ") * 100"
   ]
  },
  {
   "cell_type": "code",
   "execution_count": 0,
   "metadata": {
    "application/vnd.databricks.v1+cell": {
     "cellMetadata": {
      "byteLimit": 2048000,
      "rowLimit": 10000
     },
     "inputWidgets": {},
     "nuid": "af5dae8a-4dde-4761-b831-c72ca2c4a6ca",
     "showTitle": false,
     "tableResultSettingsMap": {},
     "title": ""
    }
   },
   "outputs": [],
   "source": [
    "fig, axes = plt.subplots(1, 2, figsize=(12, 5))\n",
    "\n",
    "sns.boxplot(\n",
    "    data=customers_raw_df[(customers_raw_df[\"age\"] != 118)],\n",
    "    x=\"age\",\n",
    "    y=\"gender\",\n",
    "    ax=axes[0],\n",
    ")\n",
    "axes[0].set_title(\"Age\")\n",
    "axes[0].set_xlabel(\"Age\")\n",
    "axes[0].set_ylabel(\"Gender\")\n",
    "\n",
    "sns.boxplot(\n",
    "    data=customers_raw_df[(customers_raw_df[\"age\"] != 118)],\n",
    "    x=\"credit_card_limit\",\n",
    "    y=\"gender\",\n",
    "    ax=axes[1],\n",
    ")\n",
    "axes[1].set_title(\"Credit card limit\")\n",
    "axes[1].set_xlabel(\"Credit card limit\")\n",
    "axes[1].set_ylabel(\"Gender\")\n",
    "\n",
    "# Adjust layout\n",
    "plt.tight_layout()\n",
    "plt.show()"
   ]
  },
  {
   "cell_type": "markdown",
   "metadata": {
    "application/vnd.databricks.v1+cell": {
     "cellMetadata": {
      "byteLimit": 2048000,
      "rowLimit": 10000
     },
     "inputWidgets": {},
     "nuid": "bd7e841b-22b3-4ea0-b2b4-7ce7629ddec3",
     "showTitle": false,
     "tableResultSettingsMap": {},
     "title": ""
    }
   },
   "source": [
    "**Observações:**\n",
    "\n",
    "- Removendo a idade igual a 118 anos, observa-se que a média e a mediana das variáveis ```age``` e ```credit_card_limit``` são próximas\n",
    "\n",
    "- Para os clientes que a idade é igual a 118 anos, os campos  ```gender``` e ```credit_card_limit``` são faltantes\n",
    "\n",
    "- O percentual de missings nos campos  ```gender``` e ```credit_card_limit``` é de 12.7941%, assim como o percentual de clientes com idade igual a 118 anos\n",
    "\n",
    "A partir da análise serão realizadas as seguintes transformações nos dados:\n",
    "\n",
    "- ```registered_on``` será convertido para datetime\n",
    "\n",
    "- ```gender``` será transformado para o tipo inteiro. Os casos de missing serão atribuídos a categoria \"Outros\"\n",
    "\n",
    "- Para os valores missings em ```gender``` e ```credit_card_limit``` a média será imputada. A média imputada será calculada sem os valores missings\n",
    "\n",
    "- O campo  ```id``` será renomeado para ```customer_id```, afim de facilitar os futuros joins\n",
    "\n",
    "- A partir de ```registered_on``` pode-se criar uma nova variável, o tempo (em dias) que o cliente se registrou\n",
    "\n",
    "- ```flag_infos``` feature para indicar se os dados do cliente originalmente são missings ou a idade é igual a 118. O intuito desta feature é utilizar os dados posteriormente para a modelagem"
   ]
  },
  {
   "cell_type": "markdown",
   "metadata": {
    "application/vnd.databricks.v1+cell": {
     "cellMetadata": {
      "byteLimit": 2048000,
      "rowLimit": 10000
     },
     "inputWidgets": {},
     "nuid": "b851b158-e858-4ad4-88c2-84afedebcfb5",
     "showTitle": false,
     "tableResultSettingsMap": {},
     "title": ""
    }
   },
   "source": [
    "Abaixo estão os passos de manipulação de ```customers.json```"
   ]
  },
  {
   "cell_type": "code",
   "execution_count": 0,
   "metadata": {
    "application/vnd.databricks.v1+cell": {
     "cellMetadata": {
      "byteLimit": 2048000,
      "rowLimit": 10000
     },
     "inputWidgets": {},
     "nuid": "b39a9f97-2e7d-4c51-b448-e5fadcd1a939",
     "showTitle": false,
     "tableResultSettingsMap": {},
     "title": ""
    }
   },
   "outputs": [],
   "source": [
    "# Add a column flag to indicate the customers with age equal to 118\n",
    "customers_raw_df[\"flag_info\"] = np.where(customers_raw_df[\"age\"] != 118, 1, 0)\n",
    "\n",
    "# Quick stats\n",
    "customers_raw_df[[\"flag_info\", \"id\", \"age\"]].groupby(\"flag_info\").agg(\n",
    "    {\"id\": \"count\", \"age\": \"mean\"}\n",
    ").reset_index()"
   ]
  },
  {
   "cell_type": "code",
   "execution_count": 0,
   "metadata": {
    "application/vnd.databricks.v1+cell": {
     "cellMetadata": {
      "byteLimit": 2048000,
      "rowLimit": 10000
     },
     "inputWidgets": {},
     "nuid": "a43e4b76-4104-45cc-8d66-7870795a5d86",
     "showTitle": false,
     "tableResultSettingsMap": {},
     "title": ""
    }
   },
   "outputs": [],
   "source": [
    "mean_age = customers_raw_df[customers_raw_df[\"age\"] != 118][\"age\"].mean()\n",
    "mean_credit_limit = customers_raw_df[customers_raw_df[\"age\"] != 118][\n",
    "    \"credit_card_limit\"\n",
    "].mean()"
   ]
  },
  {
   "cell_type": "code",
   "execution_count": 0,
   "metadata": {
    "application/vnd.databricks.v1+cell": {
     "cellMetadata": {
      "byteLimit": 2048000,
      "rowLimit": 10000
     },
     "inputWidgets": {},
     "nuid": "27854a7a-1447-43c0-b74d-1e3d7548f8ac",
     "showTitle": false,
     "tableResultSettingsMap": {},
     "title": ""
    }
   },
   "outputs": [],
   "source": [
    "customers_df = customers_raw_df.rename(columns={\"id\": \"customer_id\"})"
   ]
  },
  {
   "cell_type": "code",
   "execution_count": 0,
   "metadata": {
    "application/vnd.databricks.v1+cell": {
     "cellMetadata": {
      "byteLimit": 2048000,
      "rowLimit": 10000
     },
     "inputWidgets": {},
     "nuid": "15054362-5456-48b6-8b03-158028d27f8c",
     "showTitle": false,
     "tableResultSettingsMap": {},
     "title": ""
    }
   },
   "outputs": [],
   "source": [
    "# Convert registered_on to datetime\n",
    "customers_df[\"registered_on\"] = ps.to_datetime(\n",
    "    customers_df[\"registered_on\"], format=\"%Y%m%d\", errors=\"coerce\"\n",
    ")"
   ]
  },
  {
   "cell_type": "code",
   "execution_count": 0,
   "metadata": {
    "application/vnd.databricks.v1+cell": {
     "cellMetadata": {
      "byteLimit": 2048000,
      "rowLimit": 10000
     },
     "inputWidgets": {},
     "nuid": "7475adc8-9229-4f63-9c08-8ef1dd70f4d0",
     "showTitle": false,
     "tableResultSettingsMap": {},
     "title": ""
    }
   },
   "outputs": [],
   "source": [
    "# Convert 'gender' to numeric type with default for missing/invalid values\n",
    "gender_mapping = {\"F\": 0, \"M\": 1, \"O\": 2, None: 2}\n",
    "customers_df[\"gender\"] = (\n",
    "    customers_df[\"gender\"].map(gender_mapping).fillna(2).astype(int)\n",
    ")"
   ]
  },
  {
   "cell_type": "code",
   "execution_count": 0,
   "metadata": {
    "application/vnd.databricks.v1+cell": {
     "cellMetadata": {
      "byteLimit": 2048000,
      "rowLimit": 10000
     },
     "inputWidgets": {},
     "nuid": "15df5205-7a48-466f-bea6-a47c159d548e",
     "showTitle": false,
     "tableResultSettingsMap": {},
     "title": ""
    }
   },
   "outputs": [],
   "source": [
    "# Replace NaN in credit_card_limit with the mean of credit card limit\n",
    "customers_df[\"credit_card_limit\"] = customers_df[\"credit_card_limit\"].fillna(\n",
    "    mean_credit_limit\n",
    ")"
   ]
  },
  {
   "cell_type": "code",
   "execution_count": 0,
   "metadata": {
    "application/vnd.databricks.v1+cell": {
     "cellMetadata": {
      "byteLimit": 2048000,
      "rowLimit": 10000
     },
     "inputWidgets": {},
     "nuid": "b755d533-ed50-4a8c-8ced-9b926d074538",
     "showTitle": false,
     "tableResultSettingsMap": {},
     "title": ""
    }
   },
   "outputs": [],
   "source": [
    "# Add new feature: number of days have been a customer\n",
    "current_date = datetime.now()\n",
    "customers_df[\"days_as_customer\"] = (\n",
    "    current_date - customers_df[\"registered_on\"]\n",
    ").dt.days"
   ]
  },
  {
   "cell_type": "code",
   "execution_count": 0,
   "metadata": {
    "application/vnd.databricks.v1+cell": {
     "cellMetadata": {
      "byteLimit": 2048000,
      "rowLimit": 10000
     },
     "inputWidgets": {},
     "nuid": "e129c6d3-a251-4df9-9341-80dc34fff3cc",
     "showTitle": false,
     "tableResultSettingsMap": {},
     "title": ""
    }
   },
   "outputs": [],
   "source": [
    "# Display the data to download\n",
    "customers_psdf = ps.DataFrame(customers_df)\n",
    "customers_pyspark_df = customers_df\n",
    "display(customers_pyspark_df)"
   ]
  },
  {
   "cell_type": "markdown",
   "metadata": {
    "application/vnd.databricks.v1+cell": {
     "cellMetadata": {
      "byteLimit": 2048000,
      "rowLimit": 10000
     },
     "inputWidgets": {},
     "nuid": "b051af7c-6962-47db-b2fc-895c84c5945b",
     "showTitle": false,
     "tableResultSettingsMap": {},
     "title": ""
    }
   },
   "source": [
    "# 3 | Dataset transactions"
   ]
  },
  {
   "cell_type": "code",
   "execution_count": 0,
   "metadata": {
    "application/vnd.databricks.v1+cell": {
     "cellMetadata": {
      "byteLimit": 2048000,
      "rowLimit": 10000
     },
     "inputWidgets": {},
     "nuid": "328126de-99a6-41c4-b096-47f7cac97d76",
     "showTitle": false,
     "tableResultSettingsMap": {},
     "title": ""
    }
   },
   "outputs": [],
   "source": [
    "file_location_transactions = \"/FileStore/tables/transactions.json\"\n",
    "\n",
    "transactions_raw = (\n",
    "    spark.read.format(\"json\")\n",
    "    .option(\"inferSchema\", \"false\")\n",
    "    .option(\"header\", \"false\")\n",
    "    .option(\"sep\", \",\")\n",
    "    .load(file_location_transactions)\n",
    ")\n",
    "\n",
    "display(transactions_raw)"
   ]
  },
  {
   "cell_type": "code",
   "execution_count": 0,
   "metadata": {
    "application/vnd.databricks.v1+cell": {
     "cellMetadata": {
      "byteLimit": 2048000,
      "rowLimit": 10000
     },
     "inputWidgets": {},
     "nuid": "8a42447d-d299-4730-aa15-23603f521a03",
     "showTitle": false,
     "tableResultSettingsMap": {},
     "title": ""
    }
   },
   "outputs": [],
   "source": [
    "# Get the dtypes of the dataframe\n",
    "transactions_raw.dtypes"
   ]
  },
  {
   "cell_type": "code",
   "execution_count": 0,
   "metadata": {
    "application/vnd.databricks.v1+cell": {
     "cellMetadata": {
      "byteLimit": 2048000,
      "rowLimit": 10000
     },
     "inputWidgets": {},
     "nuid": "a51d1b0f-708a-4eba-ae3a-5cb3a9888f03",
     "showTitle": false,
     "tableResultSettingsMap": {},
     "title": ""
    }
   },
   "outputs": [],
   "source": [
    "# Get the shape of the DataFrame (number of rows and columns)\n",
    "num_rows = transactions_raw.count()\n",
    "num_cols = len(transactions_raw.columns)\n",
    "print(\"DataFrame shape:\", (num_rows, num_cols))"
   ]
  },
  {
   "cell_type": "code",
   "execution_count": 0,
   "metadata": {
    "application/vnd.databricks.v1+cell": {
     "cellMetadata": {
      "byteLimit": 2048000,
      "rowLimit": 10000
     },
     "inputWidgets": {},
     "nuid": "e4b49b67-ed3e-4c92-83f5-34b8d36662a0",
     "showTitle": false,
     "tableResultSettingsMap": {},
     "title": ""
    }
   },
   "outputs": [],
   "source": [
    "# Check the unique keys in value\n",
    "set(transactions_raw.schema[\"value\"].dataType.fieldNames())"
   ]
  },
  {
   "cell_type": "code",
   "execution_count": 0,
   "metadata": {
    "application/vnd.databricks.v1+cell": {
     "cellMetadata": {
      "byteLimit": 2048000,
      "rowLimit": 10000
     },
     "inputWidgets": {},
     "nuid": "35598721-79b9-4073-83ef-00fbd0efaacc",
     "showTitle": false,
     "tableResultSettingsMap": {},
     "title": ""
    }
   },
   "outputs": [],
   "source": [
    "# Extract the fields from the 'value' struct as separate columns\n",
    "value_details = transactions_raw.select(\n",
    "    col(\"value.amount\").alias(\"amount\"),\n",
    "    col(\"value.offer id\").alias(\"offer_id_1\"),\n",
    "    col(\"value.offer_id\").alias(\"offer_id_2\"),\n",
    "    col(\"value.reward\").alias(\"reward\"),\n",
    ")\n",
    "\n",
    "# Show the resulting DataFrame\n",
    "display(value_details)"
   ]
  },
  {
   "cell_type": "markdown",
   "metadata": {
    "application/vnd.databricks.v1+cell": {
     "cellMetadata": {
      "byteLimit": 2048000,
      "rowLimit": 10000
     },
     "inputWidgets": {},
     "nuid": "df8f124c-8b43-46e7-a87d-5a25114368a6",
     "showTitle": false,
     "tableResultSettingsMap": {},
     "title": ""
    }
   },
   "source": [
    "No dataset acima observa-se dois campos que referenciam ao ID da oferta, ```offer id``` e ```offer_id```. O que leva a hipótese de que esses campos são iguais, mas podem ter sido extraídos de maneira inadequado. \n",
    "\n",
    "Para checar se eles são iguais será verficado se essas features são mutuamente exclusivas, considerando o seguinte racional:\n",
    "\n",
    "- Ambas as features são nulas\n",
    "\n",
    "- Uma das features não é nula\n",
    "\n",
    "- Ambas as features não são nulas e diferentes\n",
    "\n",
    "O último ponto é o mais crítico, pois indica que uma observação contém IDs de ofertas distintos, o que irá levar ao descarte da observação. Abaixo é realizada a análise para verificar a hipótese."
   ]
  },
  {
   "cell_type": "code",
   "execution_count": 0,
   "metadata": {
    "application/vnd.databricks.v1+cell": {
     "cellMetadata": {
      "byteLimit": 2048000,
      "rowLimit": 10000
     },
     "inputWidgets": {},
     "nuid": "8b383d29-2e96-48bd-903c-411913705182",
     "showTitle": false,
     "tableResultSettingsMap": {},
     "title": ""
    }
   },
   "outputs": [],
   "source": [
    "# Prepare data for concatenation \n",
    "value_details_psdf = ps.DataFrame(value_details)\n",
    "transactions_raw_psdf = ps.DataFrame(transactions_raw)\n",
    "transactions_raw_psdf = transactions_raw_psdf.drop(columns=[\"value\"])"
   ]
  },
  {
   "cell_type": "code",
   "execution_count": 0,
   "metadata": {
    "application/vnd.databricks.v1+cell": {
     "cellMetadata": {
      "byteLimit": 2048000,
      "rowLimit": 10000
     },
     "inputWidgets": {},
     "nuid": "dddce4fd-a1ff-401f-a2a7-9b3ecb6a3570",
     "showTitle": false,
     "tableResultSettingsMap": {},
     "title": ""
    }
   },
   "outputs": [],
   "source": [
    "# Get the expanded dataset of transaction to have only one dataset to clean\n",
    "transactions_value_details_psdf = ps.concat(\n",
    "    [transactions_raw_psdf, value_details_psdf], axis=1\n",
    ")\n",
    "transactions_value_details_psdf.head()"
   ]
  },
  {
   "cell_type": "code",
   "execution_count": 0,
   "metadata": {
    "application/vnd.databricks.v1+cell": {
     "cellMetadata": {
      "byteLimit": 2048000,
      "rowLimit": 10000
     },
     "inputWidgets": {},
     "nuid": "6b9633c7-e0da-44c3-b76e-778e24e0b8b7",
     "showTitle": false,
     "tableResultSettingsMap": {},
     "title": ""
    }
   },
   "outputs": [],
   "source": [
    "# Get the shape\n",
    "transactions_value_details_psdf.shape"
   ]
  },
  {
   "cell_type": "code",
   "execution_count": 0,
   "metadata": {
    "application/vnd.databricks.v1+cell": {
     "cellMetadata": {
      "byteLimit": 2048000,
      "rowLimit": 10000
     },
     "inputWidgets": {},
     "nuid": "eb98f651-56be-4ab7-8544-cd5bd29df397",
     "showTitle": false,
     "tableResultSettingsMap": {},
     "title": ""
    }
   },
   "outputs": [],
   "source": [
    "# Check the offer id and offer_id are equal or not\n",
    "transactions_value_details_pyspark_df = transactions_value_details_psdf.to_spark()\n",
    "transactions_value_details_pyspark_df = check_offer_ids(\n",
    "    transactions_value_details_pyspark_df\n",
    ")"
   ]
  },
  {
   "cell_type": "code",
   "execution_count": 0,
   "metadata": {
    "application/vnd.databricks.v1+cell": {
     "cellMetadata": {
      "byteLimit": 2048000,
      "rowLimit": 10000
     },
     "inputWidgets": {},
     "nuid": "85cd6f31-a491-465c-ae08-e2386ba61b84",
     "showTitle": false,
     "tableResultSettingsMap": {},
     "title": ""
    }
   },
   "outputs": [],
   "source": [
    "# Check the offer id and offer_id are equal or not\n",
    "transactions_value_details_psdf = ps.DataFrame(transactions_value_details_pyspark_df)\n",
    "grouped_counts = (\n",
    "    transactions_value_details_psdf[[\"account_id\", \"offer_flag\"]]\n",
    "    .groupby(by=\"offer_flag\")\n",
    "    .count()\n",
    ")\n",
    "grouped_counts"
   ]
  },
  {
   "cell_type": "markdown",
   "metadata": {
    "application/vnd.databricks.v1+cell": {
     "cellMetadata": {
      "byteLimit": 2048000,
      "rowLimit": 10000
     },
     "inputWidgets": {},
     "nuid": "520a72c5-cbca-43c9-8878-350498514181",
     "showTitle": false,
     "tableResultSettingsMap": {},
     "title": ""
    }
   },
   "source": [
    "A partir da tabela observa-se que nenhuma observação contem IDs de ofertas distintos. Dado isso pode-se combinar os campos, de forma a criar um único ```offer_id```. Para criar essa nova feature as features serão combinadas, i.e.:\n",
    "\n",
    "- Quando ambas as features estiverem nulas o seu valor se mantém nulo\n",
    "\n",
    "- Quando uma das features for não nula esse valor será atribuído a nova feature ```offer_id```"
   ]
  },
  {
   "cell_type": "code",
   "execution_count": 0,
   "metadata": {
    "application/vnd.databricks.v1+cell": {
     "cellMetadata": {
      "byteLimit": 2048000,
      "rowLimit": 10000
     },
     "inputWidgets": {},
     "nuid": "8781c645-f144-4f98-9422-137dadf90637",
     "showTitle": false,
     "tableResultSettingsMap": {},
     "title": ""
    }
   },
   "outputs": [],
   "source": [
    "# Create the column with correct offer_id\n",
    "transactions_value_details_psdf[\n",
    "    \"combined_offer_id\"\n",
    "] = transactions_value_details_psdf.apply(\n",
    "    lambda row: row[\"offer_id_1\"] if ps.notna(row[\"offer_id_1\"]) else row[\"offer_id_2\"],\n",
    "    axis=1,\n",
    ")\n",
    "transactions_value_details_psdf.head(3)"
   ]
  },
  {
   "cell_type": "code",
   "execution_count": 0,
   "metadata": {
    "application/vnd.databricks.v1+cell": {
     "cellMetadata": {
      "byteLimit": 2048000,
      "rowLimit": 10000
     },
     "inputWidgets": {},
     "nuid": "928794ca-f5b6-4991-ad85-dee83cf5469e",
     "showTitle": false,
     "tableResultSettingsMap": {},
     "title": ""
    }
   },
   "outputs": [],
   "source": [
    "# Check the percentage of missings\n",
    "transactions_value_details_psdf.isna().mean() * 100"
   ]
  },
  {
   "cell_type": "code",
   "execution_count": 0,
   "metadata": {
    "application/vnd.databricks.v1+cell": {
     "cellMetadata": {
      "byteLimit": 2048000,
      "rowLimit": 10000
     },
     "inputWidgets": {},
     "nuid": "f6a9d3e0-1b54-4d1d-9921-5f38825c7b4d",
     "showTitle": false,
     "tableResultSettingsMap": {},
     "title": ""
    }
   },
   "outputs": [],
   "source": [
    "# Transform data to pypark dataframe to download\n",
    "transactions_value_details_pyspark_df = transactions_value_details_psdf.to_spark()\n",
    "display(transactions_value_details_pyspark_df)"
   ]
  },
  {
   "cell_type": "markdown",
   "metadata": {
    "application/vnd.databricks.v1+cell": {
     "cellMetadata": {
      "byteLimit": 2048000,
      "rowLimit": 10000
     },
     "inputWidgets": {},
     "nuid": "c824c1e7-2a44-4b0d-b494-4fcd14b00e71",
     "showTitle": false,
     "tableResultSettingsMap": {},
     "title": ""
    }
   },
   "source": [
    "Observa-se que o número de missings na feature ```combined_offer_id``` se mantém alto. Antes de investigar a possível causa, algumas variáveis serão descartadas (pois não são mais necessárias) e outras serão renomeadas."
   ]
  },
  {
   "cell_type": "code",
   "execution_count": 0,
   "metadata": {
    "application/vnd.databricks.v1+cell": {
     "cellMetadata": {
      "byteLimit": 2048000,
      "rowLimit": 10000
     },
     "inputWidgets": {},
     "nuid": "4473e5d2-09e3-4862-b83d-530381cf0fd9",
     "showTitle": false,
     "tableResultSettingsMap": {},
     "title": ""
    }
   },
   "outputs": [],
   "source": [
    "# Drop unnecessary columns\n",
    "transactions_value_details_psdf = transactions_value_details_psdf.drop(\n",
    "    columns={\"offer_id_1\", \"offer_id_2\", \"offer_flag\"}\n",
    ")"
   ]
  },
  {
   "cell_type": "code",
   "execution_count": 0,
   "metadata": {
    "application/vnd.databricks.v1+cell": {
     "cellMetadata": {
      "byteLimit": 2048000,
      "rowLimit": 10000
     },
     "inputWidgets": {},
     "nuid": "a153ae36-7057-48a4-b831-ea6a385c1131",
     "showTitle": false,
     "tableResultSettingsMap": {},
     "title": ""
    }
   },
   "outputs": [],
   "source": [
    "# Rename columns\n",
    "transactions_value_details_psdf.rename(\n",
    "    columns={\"combined_offer_id\": \"offer_id\", \"account_id\": \"customer_id\"}, inplace=True\n",
    ")"
   ]
  },
  {
   "cell_type": "code",
   "execution_count": 0,
   "metadata": {
    "application/vnd.databricks.v1+cell": {
     "cellMetadata": {
      "byteLimit": 2048000,
      "rowLimit": 10000
     },
     "inputWidgets": {},
     "nuid": "7fa7aa25-e9df-4c9a-a238-b5423d5d91cd",
     "showTitle": false,
     "tableResultSettingsMap": {},
     "title": ""
    }
   },
   "outputs": [],
   "source": [
    "# Percentage of events\n",
    "transactions_value_details_psdf[\"event\"].value_counts(normalize=True) * 100"
   ]
  },
  {
   "cell_type": "markdown",
   "metadata": {
    "application/vnd.databricks.v1+cell": {
     "cellMetadata": {
      "byteLimit": 2048000,
      "rowLimit": 10000
     },
     "inputWidgets": {},
     "nuid": "10181eb9-a1c2-465c-8ff3-8fb3c774effd",
     "showTitle": false,
     "tableResultSettingsMap": {},
     "title": ""
    }
   },
   "source": [
    "Após os passos anteriores de manipulação, serão visualizados os dados de alguns clientes. O objetivo é compreender o que leva o ```offer_id``` ter um alto percentual de missings."
   ]
  },
  {
   "cell_type": "code",
   "execution_count": 0,
   "metadata": {
    "application/vnd.databricks.v1+cell": {
     "cellMetadata": {
      "byteLimit": 2048000,
      "rowLimit": 10000
     },
     "inputWidgets": {},
     "nuid": "60bda173-d123-47cb-b84e-0b52ce16f578",
     "showTitle": false,
     "tableResultSettingsMap": {},
     "title": ""
    }
   },
   "outputs": [],
   "source": [
    "# Customer \"78afa995795e4d85b5d9ceeca43f5fef\"\n",
    "transactions_value_details_psdf[\n",
    "    transactions_value_details_psdf[\"customer_id\"] == \"78afa995795e4d85b5d9ceeca43f5fef\"\n",
    "].sort_values(by=[\"offer_id\", \"time_since_test_start\"])"
   ]
  },
  {
   "cell_type": "markdown",
   "metadata": {
    "application/vnd.databricks.v1+cell": {
     "cellMetadata": {
      "byteLimit": 2048000,
      "rowLimit": 10000
     },
     "inputWidgets": {},
     "nuid": "34f4c564-9ddd-4695-99ce-9005b54d0105",
     "showTitle": false,
     "tableResultSettingsMap": {},
     "title": ""
    }
   },
   "source": [
    "Para o cliente ```78afa995795e4d85b5d9ceeca43f5fef``` observa-se que a feature ```offer_id``` é nula quando o evento é de transação. E quando o ID da oferta não é nulo a feature ```amount``` é."
   ]
  },
  {
   "cell_type": "code",
   "execution_count": 0,
   "metadata": {
    "application/vnd.databricks.v1+cell": {
     "cellMetadata": {
      "byteLimit": 2048000,
      "rowLimit": 10000
     },
     "inputWidgets": {},
     "nuid": "ab69a595-b5b1-4e24-9b25-88f51daac811",
     "showTitle": false,
     "tableResultSettingsMap": {},
     "title": ""
    }
   },
   "outputs": [],
   "source": [
    "# Customer \"a03223e636434f42ac4c3df47e8bac43\"\n",
    "transactions_value_details_psdf[\n",
    "    transactions_value_details_psdf[\"customer_id\"] == \"a03223e636434f42ac4c3df47e8bac43\"\n",
    "].sort_values(by=[\"offer_id\", \"time_since_test_start\"])"
   ]
  },
  {
   "cell_type": "markdown",
   "metadata": {
    "application/vnd.databricks.v1+cell": {
     "cellMetadata": {
      "byteLimit": 2048000,
      "rowLimit": 10000
     },
     "inputWidgets": {},
     "nuid": "7bf93991-4138-4703-ba37-f78198c4e0d9",
     "showTitle": false,
     "tableResultSettingsMap": {},
     "title": ""
    }
   },
   "source": [
    "Para o cliente ```a03223e636434f42ac4c3df47e8bac43``` observa-se que a feature ```offer_id``` é nula quando o event é de transação. E quando o ID da oferta não é nulo a feature ```amount``` é.\n",
    "\n",
    "Observa-se também que o cliente recebeu a oferta ```0b1e1539f2cc45b7b9fa7c272da2e1d7``` mais de uma vez (a feature ```time_since_test_start``` indica o tempo que o cliente recebeu, visualizou, etc a oferta). Dado isso pode-se inferir que um cliente pode ser impactado por uma oferta mais de uma vez e receber mais de uma oferta ao menos tempo.\n"
   ]
  },
  {
   "cell_type": "code",
   "execution_count": 0,
   "metadata": {
    "application/vnd.databricks.v1+cell": {
     "cellMetadata": {
      "byteLimit": 2048000,
      "rowLimit": 10000
     },
     "inputWidgets": {},
     "nuid": "7a77e8b9-66a0-4427-b7b2-4599b4453145",
     "showTitle": false,
     "tableResultSettingsMap": {},
     "title": ""
    }
   },
   "outputs": [],
   "source": [
    "# Customer \"e2127556f4f64592b11af22de27a7932\"\n",
    "transactions_value_details_psdf[\n",
    "    transactions_value_details_psdf[\"customer_id\"] == \"e2127556f4f64592b11af22de27a7932\"\n",
    "].sort_values(by=[\"offer_id\", \"time_since_test_start\"])"
   ]
  },
  {
   "cell_type": "markdown",
   "metadata": {
    "application/vnd.databricks.v1+cell": {
     "cellMetadata": {
      "byteLimit": 2048000,
      "rowLimit": 10000
     },
     "inputWidgets": {},
     "nuid": "2ce8d6b4-6e64-4977-8393-0db25de28543",
     "showTitle": false,
     "tableResultSettingsMap": {},
     "title": ""
    }
   },
   "source": [
    "Para o cliente ```e2127556f4f64592b11af22de27a7932``` observa-se que a feature ```offer_id``` é nula quando o event é de transação. E quando o ID da oferta não é nulo a feature ```amount``` é."
   ]
  },
  {
   "cell_type": "markdown",
   "metadata": {
    "application/vnd.databricks.v1+cell": {
     "cellMetadata": {
      "byteLimit": 2048000,
      "rowLimit": 10000
     },
     "inputWidgets": {},
     "nuid": "98cf7071-ee13-4395-a0cc-5e4c7f4d05e9",
     "showTitle": false,
     "tableResultSettingsMap": {},
     "title": ""
    }
   },
   "source": [
    "A análise dos dados de 3 clientes leva a hipótese de que os eventos de transação não estão diretamente associados a uma oferta. Além disso a partir da análise as features ```amount``` pode ser definida como o valor gasto em uma transação.\n",
    "\n",
    "Abaixo será checada a hipótese de que os eventos de transação não estão associados a uma oferta."
   ]
  },
  {
   "cell_type": "code",
   "execution_count": 0,
   "metadata": {
    "application/vnd.databricks.v1+cell": {
     "cellMetadata": {
      "byteLimit": 2048000,
      "rowLimit": 10000
     },
     "inputWidgets": {},
     "nuid": "73cfd18f-1389-4a0f-be79-553e325f1450",
     "showTitle": false,
     "tableResultSettingsMap": {},
     "title": ""
    }
   },
   "outputs": [],
   "source": [
    "transactions_value_details_psdf[\"event\"].value_counts()"
   ]
  },
  {
   "cell_type": "code",
   "execution_count": 0,
   "metadata": {
    "application/vnd.databricks.v1+cell": {
     "cellMetadata": {
      "byteLimit": 2048000,
      "rowLimit": 10000
     },
     "inputWidgets": {},
     "nuid": "ecf45593-9fd0-41df-a336-f03b9153f33e",
     "showTitle": false,
     "tableResultSettingsMap": {},
     "title": ""
    }
   },
   "outputs": [],
   "source": [
    "event_transactions = transactions_value_details_psdf[\n",
    "    transactions_value_details_psdf[\"event\"] == \"transaction\"\n",
    "]\n",
    "\n",
    "associated_with_offer = event_transactions[event_transactions[\"offer_id\"].notna()]\n",
    "not_associated_with_offer = event_transactions[event_transactions[\"offer_id\"].isna()]\n",
    "\n",
    "print(f\"Transações associadas a ofertas: {len(associated_with_offer)}\")\n",
    "print(f\"Transações não associadas a ofertas: {len(not_associated_with_offer)}\")"
   ]
  },
  {
   "cell_type": "markdown",
   "metadata": {
    "application/vnd.databricks.v1+cell": {
     "cellMetadata": {
      "byteLimit": 2048000,
      "rowLimit": 10000
     },
     "inputWidgets": {},
     "nuid": "9b1cb3f1-1368-4129-9e77-b0481abeed58",
     "showTitle": false,
     "tableResultSettingsMap": {},
     "title": ""
    }
   },
   "source": [
    "Observa-se que o total de eventos de transação é de 138953 e o total de eventos de transações com o ID da oferta nulo é de 138953. O que corrobora a hipótese de que os dados relativos a transações não estão diretamente associados a uma oferta.\n",
    "\n",
    "Dado isso será necessário desenvolver uma proxy para associar os dados de transações aos IDs de ofertas. Para tal serão consideradas as seguintes features:\n",
    "\n",
    "- `time_since_test_start`: Do dataset `transactions`, indica quando cada evento ocorreu em relação ao início do teste\n",
    "\n",
    "- `duration`: Do dataset `offers`, indica o tempo de duração de uma oferta, i.e., o tempo que o cliente tem para utilizar a oferta\n",
    "\n",
    "Vale ressaltar que a definição dada a `duration` ocorre porque uma oferta deve ter um tempo de vida útil, i.e., uma oferta tem um prazo de validade.\n",
    "\n",
    "Para associar uma transação a uma oferta, considera-se uma janela de tempo que define o período em que a oferta pode ter influenciado a transação. As regras são:\n",
    "\n",
    "- Início do período de influência:\n",
    "\n",
    "    - Quando uma oferta é recebida (event = \"offer_received\"), o tempo de início é: \n",
    "      start_time = time_since_test_start\n",
    "\n",
    "-\tFim do período de influência:\n",
    "\n",
    "    - O prazo de validade da oferta (duration) é contado a partir de start_time: \n",
    "      end_time = time_since_test_start + duration\n",
    "\n",
    "- Associação de transações:\n",
    "\n",
    "    - Se uma transação (event = \"transaction\") ocorrer dentro do período de influência da oferta (start_time <= time_since_test_start <= end_time), a transação será associada ao ID da oferta.\n",
    "\n",
    "Esse processo é repetido para cada ID de oferta, considerando o período de duração específico de cada uma.\n",
    "\n",
    "Resumo: Para cada ID de oferta e eventos do cliente, verifica-se se a transação ocorreu no período de influência da oferta."
   ]
  },
  {
   "cell_type": "code",
   "execution_count": 0,
   "metadata": {
    "application/vnd.databricks.v1+cell": {
     "cellMetadata": {
      "byteLimit": 2048000,
      "rowLimit": 10000
     },
     "inputWidgets": {},
     "nuid": "47d85e66-b055-4172-8c75-792fc91ce753",
     "showTitle": false,
     "tableResultSettingsMap": {},
     "title": ""
    }
   },
   "outputs": [],
   "source": [
    "# Quick stats\n",
    "offers_psdf[\"duration\"].describe()"
   ]
  },
  {
   "cell_type": "code",
   "execution_count": 0,
   "metadata": {
    "application/vnd.databricks.v1+cell": {
     "cellMetadata": {
      "byteLimit": 2048000,
      "rowLimit": 10000
     },
     "inputWidgets": {},
     "nuid": "15f78b90-f2b5-479a-8ce2-a4c057a4ea64",
     "showTitle": false,
     "tableResultSettingsMap": {},
     "title": ""
    }
   },
   "outputs": [],
   "source": [
    "# Quick stats\n",
    "transactions_value_details_psdf[\"time_since_test_start\"].describe()"
   ]
  },
  {
   "cell_type": "code",
   "execution_count": 0,
   "metadata": {
    "application/vnd.databricks.v1+cell": {
     "cellMetadata": {
      "byteLimit": 2048000,
      "rowLimit": 10000
     },
     "inputWidgets": {},
     "nuid": "c353796c-4b89-47ef-9aac-5880f305a00a",
     "showTitle": false,
     "tableResultSettingsMap": {},
     "title": ""
    }
   },
   "outputs": [],
   "source": [
    "transactions_value_details_psdf.head()"
   ]
  },
  {
   "cell_type": "code",
   "execution_count": 0,
   "metadata": {
    "application/vnd.databricks.v1+cell": {
     "cellMetadata": {
      "byteLimit": 2048000,
      "rowLimit": 10000
     },
     "inputWidgets": {},
     "nuid": "9b3485e0-8cee-46d0-ba50-f9b32b6ad2d3",
     "showTitle": false,
     "tableResultSettingsMap": {},
     "title": ""
    }
   },
   "outputs": [],
   "source": [
    "# Prepare data to apply function\n",
    "transactions_value_details_psdf = transactions_value_details_psdf.sort_values(by=[\"customer_id\"])\n",
    "offers_duration_psdf = offers_psdf[[\"offer_id\", \"duration\"]]"
   ]
  },
  {
   "cell_type": "code",
   "execution_count": 0,
   "metadata": {
    "application/vnd.databricks.v1+cell": {
     "cellMetadata": {
      "byteLimit": 2048000,
      "rowLimit": 10000
     },
     "inputWidgets": {},
     "nuid": "88775217-0692-4e4d-8219-a80845176079",
     "showTitle": false,
     "tableResultSettingsMap": {},
     "title": ""
    }
   },
   "outputs": [],
   "source": [
    "# Apply the proxy\n",
    "transactions_with_offers_psdf = associate_transactions_to_offers(\n",
    "    transactions_value_details_psdf, offers_duration_psdf\n",
    ")"
   ]
  },
  {
   "cell_type": "code",
   "execution_count": 0,
   "metadata": {
    "application/vnd.databricks.v1+cell": {
     "cellMetadata": {
      "byteLimit": 2048000,
      "rowLimit": 10000
     },
     "inputWidgets": {},
     "nuid": "e619eda6-f02e-45a9-895b-83a5ca24930e",
     "showTitle": false,
     "tableResultSettingsMap": {},
     "title": ""
    }
   },
   "outputs": [],
   "source": [
    "transactions_with_offers_psdf.head()"
   ]
  },
  {
   "cell_type": "code",
   "execution_count": 0,
   "metadata": {
    "application/vnd.databricks.v1+cell": {
     "cellMetadata": {
      "byteLimit": 2048000,
      "rowLimit": 10000
     },
     "inputWidgets": {},
     "nuid": "100dbe29-9c9f-4695-9971-f552087f9ee2",
     "showTitle": false,
     "tableResultSettingsMap": {},
     "title": ""
    }
   },
   "outputs": [],
   "source": [
    "transactions_with_offers_pyspark_df = transactions_with_offers_psdf.to_spark()\n",
    "display(transactions_with_offers_pyspark_df)"
   ]
  },
  {
   "cell_type": "markdown",
   "metadata": {
    "application/vnd.databricks.v1+cell": {
     "cellMetadata": {
      "byteLimit": 2048000,
      "rowLimit": 10000
     },
     "inputWidgets": {},
     "nuid": "4699d788-548a-4055-ab31-d7d818f50a0c",
     "showTitle": false,
     "tableResultSettingsMap": {},
     "title": ""
    }
   },
   "source": [
    "Após realizar a associação dos eventos de transação com uma oferta, será realizado o processo de feature engineering. \n",
    "\n",
    "As seguintes features serão criadas:\n",
    "\n",
    "- ```time_to_view```: tempo que o cliente leva para visualizar uma oferta, i.e., tempo entre receber uma oferta e visualizá-la\n",
    "\n",
    "- ```time_to_open```: tempo que o cliente leva para completar uma oferta, i.e., tempo entre visualizar uma oferta e completá-la\n",
    "\n",
    "- ```event```: serão criadas variáveis dummies para essa feature"
   ]
  },
  {
   "cell_type": "code",
   "execution_count": 0,
   "metadata": {
    "application/vnd.databricks.v1+cell": {
     "cellMetadata": {
      "byteLimit": 2048000,
      "rowLimit": 10000
     },
     "inputWidgets": {},
     "nuid": "28de1ca9-445e-49d4-a987-f55e171b2452",
     "showTitle": false,
     "tableResultSettingsMap": {},
     "title": ""
    }
   },
   "outputs": [],
   "source": [
    "transactions_with_offers_to_time_psdf = transactions_with_offers_psdf.copy()\n",
    "transactions_with_offers_to_time_psdf.event.value_counts()"
   ]
  },
  {
   "cell_type": "code",
   "execution_count": 0,
   "metadata": {
    "application/vnd.databricks.v1+cell": {
     "cellMetadata": {
      "byteLimit": 2048000,
      "rowLimit": 10000
     },
     "inputWidgets": {},
     "nuid": "6493d461-69d3-416a-be8b-262f6fca464c",
     "showTitle": false,
     "tableResultSettingsMap": {},
     "title": ""
    }
   },
   "outputs": [],
   "source": [
    "transactions_with_offers_to_time_psdf.head()"
   ]
  },
  {
   "cell_type": "code",
   "execution_count": 0,
   "metadata": {
    "application/vnd.databricks.v1+cell": {
     "cellMetadata": {
      "byteLimit": 2048000,
      "rowLimit": 10000
     },
     "inputWidgets": {},
     "nuid": "a748fc77-f947-46f1-b6fe-157175002c09",
     "showTitle": false,
     "tableResultSettingsMap": {},
     "title": ""
    }
   },
   "outputs": [],
   "source": [
    "# Apply function to get times\n",
    "transactions_time_psdf = calculate_time(transactions_with_offers_to_time_psdf)\n",
    "transactions_time_psdf.head()"
   ]
  },
  {
   "cell_type": "code",
   "execution_count": 0,
   "metadata": {
    "application/vnd.databricks.v1+cell": {
     "cellMetadata": {
      "byteLimit": 2048000,
      "rowLimit": 10000
     },
     "inputWidgets": {},
     "nuid": "7afcd30d-a1f3-4e14-8164-43934a565d74",
     "showTitle": false,
     "tableResultSettingsMap": {},
     "title": ""
    }
   },
   "outputs": [],
   "source": [
    "\n",
    "# Transform data to pypark dataframe to download\n",
    "transactions_time_pyspark_df = transactions_time_psdf.to_spark()\n",
    "display(transactions_time_pyspark_df)"
   ]
  },
  {
   "cell_type": "code",
   "execution_count": 0,
   "metadata": {
    "application/vnd.databricks.v1+cell": {
     "cellMetadata": {
      "byteLimit": 2048000,
      "rowLimit": 10000
     },
     "inputWidgets": {},
     "nuid": "53170c3e-c0f2-4aa9-b832-f583d56dc67e",
     "showTitle": false,
     "tableResultSettingsMap": {},
     "title": ""
    }
   },
   "outputs": [],
   "source": [
    "transactions_with_offers_psdf.head(3)"
   ]
  },
  {
   "cell_type": "code",
   "execution_count": 0,
   "metadata": {
    "application/vnd.databricks.v1+cell": {
     "cellMetadata": {
      "byteLimit": 2048000,
      "rowLimit": 10000
     },
     "inputWidgets": {},
     "nuid": "f234506b-7af1-42ab-998c-bf52c4bae13f",
     "showTitle": false,
     "tableResultSettingsMap": {},
     "title": ""
    }
   },
   "outputs": [],
   "source": [
    "# Get dummies for events\n",
    "unique_events = ps.get_dummies(transactions_with_offers_psdf[\"event\"])\n",
    "unique_events.head()\n"
   ]
  },
  {
   "cell_type": "code",
   "execution_count": 0,
   "metadata": {
    "application/vnd.databricks.v1+cell": {
     "cellMetadata": {
      "byteLimit": 2048000,
      "rowLimit": 10000
     },
     "inputWidgets": {},
     "nuid": "72e71ffe-934c-409e-b679-4e6a1dc58cb4",
     "showTitle": false,
     "tableResultSettingsMap": {},
     "title": ""
    }
   },
   "outputs": [],
   "source": [
    "transactions_with_dummies_psdf = ps.concat([transactions_with_offers_psdf, unique_events])\n",
    "transactions_with_dummies_psdf.head()"
   ]
  },
  {
   "cell_type": "code",
   "execution_count": 0,
   "metadata": {
    "application/vnd.databricks.v1+cell": {
     "cellMetadata": {
      "byteLimit": 2048000,
      "rowLimit": 10000
     },
     "inputWidgets": {},
     "nuid": "36dfe5c5-150d-4180-bc3b-e965568f0b97",
     "showTitle": false,
     "tableResultSettingsMap": {},
     "title": ""
    }
   },
   "outputs": [],
   "source": [
    "# Get transactions with associated offers to transactions and the time features\n",
    "transactions_processed_psdf = transactions_with_dummies_psdf.merge(\n",
    "    transactions_time_psdf, on=[\"customer_id\", \"offer_id\"], how=\"inner\"\n",
    ")\n",
    "transactions_processed_psdf.head()"
   ]
  },
  {
   "cell_type": "code",
   "execution_count": 0,
   "metadata": {
    "application/vnd.databricks.v1+cell": {
     "cellMetadata": {
      "byteLimit": 2048000,
      "rowLimit": 10000
     },
     "inputWidgets": {},
     "nuid": "d4f0d052-de32-43c4-875b-319e1a4d0f4f",
     "showTitle": false,
     "tableResultSettingsMap": {},
     "title": ""
    }
   },
   "outputs": [],
   "source": [
    "transactions_processed_psdf = transactions_processed_psdf.rename(columns={\n",
    "    \"event_offer completed\": \"event_offer_completed\",\n",
    "    \"event_offer received\": \"event_offer_received\",\n",
    "    \"event_offer viewed\": \"event_offer_viewed\",\n",
    "})\n",
    "transactions_processed_psdf.head(3)"
   ]
  },
  {
   "cell_type": "code",
   "execution_count": 0,
   "metadata": {
    "application/vnd.databricks.v1+cell": {
     "cellMetadata": {
      "byteLimit": 2048000,
      "rowLimit": 10000
     },
     "inputWidgets": {},
     "nuid": "14ea53f9-07e7-45ad-8c2b-d2cec0036b6e",
     "showTitle": false,
     "tableResultSettingsMap": {},
     "title": ""
    }
   },
   "outputs": [],
   "source": [
    "# Transform data to pypark dataframe to download\n",
    "transactions_processed_pyspark_df = transactions_processed_psdf.to_spark()\n",
    "display(transactions_processed_pyspark_df)"
   ]
  },
  {
   "cell_type": "markdown",
   "metadata": {
    "application/vnd.databricks.v1+cell": {
     "cellMetadata": {
      "byteLimit": 2048000,
      "rowLimit": 10000
     },
     "inputWidgets": {},
     "nuid": "b8e0ec1b-089e-4887-881b-bfa3b238a017",
     "showTitle": false,
     "tableResultSettingsMap": {},
     "title": ""
    }
   },
   "source": [
    "# 4 | Merge datasets"
   ]
  },
  {
   "cell_type": "markdown",
   "metadata": {
    "application/vnd.databricks.v1+cell": {
     "cellMetadata": {
      "byteLimit": 2048000,
      "rowLimit": 10000
     },
     "inputWidgets": {},
     "nuid": "b8e2b5d7-170c-4213-bcdd-f36c6e64f42d",
     "showTitle": false,
     "tableResultSettingsMap": {},
     "title": ""
    }
   },
   "source": [
    "Dois datasets serão criados:\n",
    "\n",
    "- ```customers_offers_agg```: informações agregadas a nível de  ```offers``` e ```customers```\n",
    "\n",
    "- ```customers_agg```: informações agregadas a nível de ```customers```"
   ]
  },
  {
   "cell_type": "code",
   "execution_count": 0,
   "metadata": {
    "application/vnd.databricks.v1+cell": {
     "cellMetadata": {
      "byteLimit": 2048000,
      "rowLimit": 10000
     },
     "inputWidgets": {},
     "nuid": "9cc97bd3-3109-4556-b42e-76483cd315b0",
     "showTitle": false,
     "tableResultSettingsMap": {},
     "title": ""
    }
   },
   "outputs": [],
   "source": [
    "customers_transactions_psdf = customers_psdf.merge(\n",
    "    transactions_processed_psdf, on=[\"customer_id\"], how=\"left\"\n",
    ")\n",
    "customers_transactions_psdf.head()"
   ]
  },
  {
   "cell_type": "code",
   "execution_count": 0,
   "metadata": {
    "application/vnd.databricks.v1+cell": {
     "cellMetadata": {
      "byteLimit": 2048000,
      "rowLimit": 10000
     },
     "inputWidgets": {},
     "nuid": "8bb8dfff-763b-4192-a0d0-4781cb207558",
     "showTitle": false,
     "tableResultSettingsMap": {},
     "title": ""
    }
   },
   "outputs": [],
   "source": [
    "customers_transactions_offers_psdf = customers_transactions_psdf.merge(\n",
    "    offers_psdf.drop(columns=\"duration\"), on=\"offer_id\", how=\"left\"\n",
    ")"
   ]
  },
  {
   "cell_type": "markdown",
   "metadata": {
    "application/vnd.databricks.v1+cell": {
     "cellMetadata": {
      "byteLimit": 2048000,
      "rowLimit": 10000
     },
     "inputWidgets": {},
     "nuid": "b8d38edc-9d6e-4a4f-8309-6f9a584ff403",
     "showTitle": false,
     "tableResultSettingsMap": {},
     "title": ""
    }
   },
   "source": [
    "Da tabela acima observa-se que o cliente pode receber uma mesma oferta mais de uma vez."
   ]
  },
  {
   "cell_type": "code",
   "execution_count": 0,
   "metadata": {
    "application/vnd.databricks.v1+cell": {
     "cellMetadata": {
      "byteLimit": 2048000,
      "rowLimit": 10000
     },
     "inputWidgets": {},
     "nuid": "6845da89-eef0-4ce1-b723-6e734427a842",
     "showTitle": false,
     "tableResultSettingsMap": {},
     "title": ""
    }
   },
   "outputs": [],
   "source": [
    "# Fill NA with zeros\n",
    "customers_transactions_offers_psdf[\"time_to_view\"] = customers_transactions_offers_psdf[\n",
    "    \"time_to_view\"\n",
    "].fillna(0)\n",
    "customers_transactions_offers_psdf[\"time_to_complete\"] = customers_transactions_offers_psdf[\n",
    "    \"time_to_complete\"\n",
    "].fillna(0)"
   ]
  },
  {
   "cell_type": "code",
   "execution_count": 0,
   "metadata": {
    "application/vnd.databricks.v1+cell": {
     "cellMetadata": {
      "byteLimit": 2048000,
      "rowLimit": 10000
     },
     "inputWidgets": {},
     "nuid": "dfc5ca3d-5042-4a33-b58d-07e178ba2370",
     "showTitle": false,
     "tableResultSettingsMap": {},
     "title": ""
    }
   },
   "outputs": [],
   "source": [
    "customers_transactions_offers_psdf.head()"
   ]
  },
  {
   "cell_type": "markdown",
   "metadata": {
    "application/vnd.databricks.v1+cell": {
     "cellMetadata": {
      "byteLimit": 2048000,
      "rowLimit": 10000
     },
     "inputWidgets": {},
     "nuid": "31341d8a-34f4-48b1-9623-e18a2d4f5156",
     "showTitle": false,
     "tableResultSettingsMap": {},
     "title": ""
    }
   },
   "source": [
    "Sumarizando os dados para cada cliente"
   ]
  },
  {
   "cell_type": "code",
   "execution_count": 0,
   "metadata": {
    "application/vnd.databricks.v1+cell": {
     "cellMetadata": {
      "byteLimit": 2048000,
      "rowLimit": 10000
     },
     "inputWidgets": {},
     "nuid": "a1654a33-9525-4f10-9cb3-9b637630ab00",
     "showTitle": false,
     "tableResultSettingsMap": {},
     "title": ""
    }
   },
   "outputs": [],
   "source": [
    "customer_offers_agg_psdf = (\n",
    "    customers_transactions_offers_psdf.groupby([\"customer_id\", \"offer_id\"])\n",
    "    .agg(\n",
    "        total_amount=(\"amount\", \"sum\"),\n",
    "        total_reward=(\"reward\", \"sum\"),\n",
    "        total_offer_completed=(\"event_offer_completed\", \"sum\"),\n",
    "        total_offer_received=(\"event_offer_received\", \"sum\"),\n",
    "        total_offer_viewed=(\"event_offer_viewed\", \"sum\"),\n",
    "        total_transaction=(\"event_transaction\", \"sum\"),\n",
    "        total_social=(\"social\", \"sum\"),\n",
    "        total_mobile=(\"mobile\", \"sum\"),\n",
    "        total_email=(\"email\", \"sum\"),\n",
    "        total_web=(\"web\", \"sum\"),\n",
    "        total_bogo=(\"bogo\", \"sum\"),\n",
    "        total_discount=(\"discount\", \"sum\"),\n",
    "        total_informational=(\"informational\", \"sum\"),\n",
    "        agv_time_to_view=(\"time_to_view\", \"mean\"),\n",
    "        avg_time_to_complete=(\"time_to_complete\", \"mean\"),\n",
    "        credit_card_limit=(\"credit_card_limit\", \"mean\"),\n",
    "        days_as_customer=(\"days_as_customer\", \"mean\"),\n",
    "        avg_amount=(\"amount\", \"mean\"),\n",
    "        min_value=(\"min_value\", \"mean\")\n",
    "    )\n",
    "    .reset_index()\n",
    "    .sort_values(by=[\"customer_id\", \"offer_id\"])\n",
    ")"
   ]
  },
  {
   "cell_type": "code",
   "execution_count": 0,
   "metadata": {
    "application/vnd.databricks.v1+cell": {
     "cellMetadata": {
      "byteLimit": 2048000,
      "rowLimit": 10000
     },
     "inputWidgets": {},
     "nuid": "dd7c5efd-549f-45dc-afb4-7b7306f0a479",
     "showTitle": false,
     "tableResultSettingsMap": {},
     "title": ""
    }
   },
   "outputs": [],
   "source": [
    "customer_offers_agg_psdf[\"viewed_ratio\"] = (\n",
    "    customer_offers_agg_psdf[\"total_offer_viewed\"]\n",
    "    / customer_offers_agg_psdf[\"total_offer_received\"]\n",
    ")\n",
    "customer_offers_agg_psdf[\"completed_ratio\"] = (\n",
    "    customer_offers_agg_psdf[\"total_offer_completed\"]\n",
    "    / customer_offers_agg_psdf[\"total_offer_viewed\"]\n",
    ")\n",
    "customer_offers_agg_psdf[\"completed_ratio\"] = customer_offers_agg_psdf[\n",
    "    \"completed_ratio\"\n",
    "].replace(np.inf, 0)\n",
    "customer_offers_agg_psdf.head()"
   ]
  },
  {
   "cell_type": "code",
   "execution_count": 0,
   "metadata": {
    "application/vnd.databricks.v1+cell": {
     "cellMetadata": {
      "byteLimit": 2048000,
      "rowLimit": 10000
     },
     "inputWidgets": {},
     "nuid": "1b776289-acaf-4a47-8d7f-87a1f8f5e299",
     "showTitle": false,
     "tableResultSettingsMap": {},
     "title": ""
    }
   },
   "outputs": [],
   "source": [
    "customers_gender = customers_transactions_offers_psdf[[\"customer_id\", \"gender\", \"flag_info\"]]\n",
    "customers_gender.drop_duplicates(inplace=True)"
   ]
  },
  {
   "cell_type": "code",
   "execution_count": 0,
   "metadata": {
    "application/vnd.databricks.v1+cell": {
     "cellMetadata": {
      "byteLimit": 2048000,
      "rowLimit": 10000
     },
     "inputWidgets": {},
     "nuid": "fdec1dff-10d4-4d26-8f9d-9cc552b4cadc",
     "showTitle": false,
     "tableResultSettingsMap": {},
     "title": ""
    }
   },
   "outputs": [],
   "source": [
    "customer_offers_agg_psdf_final = customer_offers_agg_psdf.merge(\n",
    "    customers_gender,\n",
    "    on=\"customer_id\",\n",
    "    how=\"inner\",\n",
    ")\n",
    "customer_offers_agg_psdf_final.info()"
   ]
  },
  {
   "cell_type": "code",
   "execution_count": 0,
   "metadata": {
    "application/vnd.databricks.v1+cell": {
     "cellMetadata": {
      "byteLimit": 2048000,
      "rowLimit": 10000
     },
     "inputWidgets": {},
     "nuid": "8026eada-2ace-4626-b716-5579f4bf214d",
     "showTitle": false,
     "tableResultSettingsMap": {},
     "title": ""
    }
   },
   "outputs": [],
   "source": [
    "customer_offers_agg_psdf_final.head(3)"
   ]
  },
  {
   "cell_type": "code",
   "execution_count": 0,
   "metadata": {
    "application/vnd.databricks.v1+cell": {
     "cellMetadata": {
      "byteLimit": 2048000,
      "rowLimit": 10000
     },
     "inputWidgets": {},
     "nuid": "012328e6-bac4-43d3-a3e1-0bbb58d9a07f",
     "showTitle": false,
     "tableResultSettingsMap": {},
     "title": ""
    }
   },
   "outputs": [],
   "source": [
    "# Transform data to pypark dataframe to download\n",
    "customer_offers_agg_pyspark_final = customer_offers_agg_psdf_final.to_spark()\n",
    "display(customer_offers_agg_pyspark_final)"
   ]
  },
  {
   "cell_type": "markdown",
   "metadata": {
    "application/vnd.databricks.v1+cell": {
     "cellMetadata": {
      "byteLimit": 2048000,
      "rowLimit": 10000
     },
     "inputWidgets": {},
     "nuid": "7467fe51-dc02-41bb-9bde-252fad0fa4bb",
     "showTitle": false,
     "tableResultSettingsMap": {},
     "title": ""
    }
   },
   "source": [
    "Sumarizando os dados a nível de cliente"
   ]
  },
  {
   "cell_type": "code",
   "execution_count": 0,
   "metadata": {
    "application/vnd.databricks.v1+cell": {
     "cellMetadata": {
      "byteLimit": 2048000,
      "rowLimit": 10000
     },
     "inputWidgets": {},
     "nuid": "a016e6af-d3e0-41ca-9ed4-abf852c82156",
     "showTitle": false,
     "tableResultSettingsMap": {},
     "title": ""
    }
   },
   "outputs": [],
   "source": [
    "customer_agg_psdf = (\n",
    "    customer_offers_agg_psdf_final.groupby(by=[\"customer_id\"])\n",
    "    .agg(\n",
    "        total_amount=(\"total_amount\", \"sum\"),\n",
    "        total_reward=(\"total_reward\", \"sum\"),\n",
    "        total_offer_completed=(\"total_offer_completed\", \"sum\"),\n",
    "        total_offer_received=(\"total_offer_received\", \"sum\"),\n",
    "        total_offer_viewed=(\"total_offer_viewed\", \"sum\"),\n",
    "        total_transaction=(\"total_transaction\", \"sum\"),\n",
    "        total_social=(\"total_social\", \"sum\"),\n",
    "        total_mobile=(\"total_mobile\", \"sum\"),\n",
    "        total_email=(\"total_email\", \"sum\"),\n",
    "        total_web=(\"total_web\", \"sum\"),\n",
    "        total_bogo=(\"total_bogo\", \"sum\"),\n",
    "        total_discount=(\"total_discount\", \"sum\"),\n",
    "        total_informational=(\"total_informational\", \"sum\"),\n",
    "        agv_time_to_view=(\"agv_time_to_view\", \"mean\"),\n",
    "        avg_time_to_complete=(\"avg_time_to_complete\", \"mean\"),\n",
    "        credit_card_limit=(\"credit_card_limit\", \"mean\"),\n",
    "        days_as_customer=(\"days_as_customer\", \"mean\"),\n",
    "        avg_amount=(\"avg_amount\", \"mean\"),\n",
    "        min_value=(\"min_value\", \"mean\")\n",
    "    )\n",
    "    .reset_index()\n",
    "    .sort_values(by=\"customer_id\")\n",
    ")\n",
    "customer_agg_psdf.head()"
   ]
  },
  {
   "cell_type": "code",
   "execution_count": 0,
   "metadata": {
    "application/vnd.databricks.v1+cell": {
     "cellMetadata": {
      "byteLimit": 2048000,
      "rowLimit": 10000
     },
     "inputWidgets": {},
     "nuid": "d9605848-37ad-4586-9edc-12cb4c5d179d",
     "showTitle": false,
     "tableResultSettingsMap": {},
     "title": ""
    }
   },
   "outputs": [],
   "source": [
    "customer_agg_psdf_final = customer_agg_psdf.merge(\n",
    "    customers_gender,\n",
    "    on=\"customer_id\",\n",
    "    how=\"inner\",\n",
    ")\n",
    "customer_agg_psdf_final.info()"
   ]
  },
  {
   "cell_type": "code",
   "execution_count": 0,
   "metadata": {
    "application/vnd.databricks.v1+cell": {
     "cellMetadata": {
      "byteLimit": 2048000,
      "rowLimit": 10000
     },
     "inputWidgets": {},
     "nuid": "6e9c43ec-ebbd-4d40-91c5-f27d8b9970bc",
     "showTitle": false,
     "tableResultSettingsMap": {},
     "title": ""
    }
   },
   "outputs": [],
   "source": [
    "customer_agg_psdf_final.sort_values(by=\"customer_id\").head()"
   ]
  },
  {
   "cell_type": "code",
   "execution_count": 0,
   "metadata": {
    "application/vnd.databricks.v1+cell": {
     "cellMetadata": {
      "byteLimit": 2048000,
      "rowLimit": 10000
     },
     "inputWidgets": {},
     "nuid": "9015515b-b476-491d-8494-fb4cf463b568",
     "showTitle": false,
     "tableResultSettingsMap": {},
     "title": ""
    }
   },
   "outputs": [],
   "source": [
    "# Transform data to pypark dataframe to download\n",
    "customer_agg_pyspark_final = customer_agg_psdf_final.to_spark()\n",
    "display(customer_agg_pyspark_final)"
   ]
  },
  {
   "cell_type": "code",
   "execution_count": 0,
   "metadata": {
    "application/vnd.databricks.v1+cell": {
     "cellMetadata": {
      "byteLimit": 2048000,
      "rowLimit": 10000
     },
     "inputWidgets": {},
     "nuid": "7210372b-694d-44be-82be-878af313b313",
     "showTitle": false,
     "tableResultSettingsMap": {},
     "title": ""
    }
   },
   "outputs": [],
   "source": []
  }
 ],
 "metadata": {
  "application/vnd.databricks.v1+notebook": {
   "computePreferences": null,
   "dashboards": [],
   "environmentMetadata": {
    "base_environment": "",
    "client": "1"
   },
   "language": "python",
   "notebookMetadata": {
    "pythonIndentUnit": 4
   },
   "notebookName": "00_data_cleaning",
   "widgets": {}
  }
 },
 "nbformat": 4,
 "nbformat_minor": 0
}
